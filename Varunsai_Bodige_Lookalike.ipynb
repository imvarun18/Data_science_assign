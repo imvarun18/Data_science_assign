{
 "cells": [
  {
   "cell_type": "markdown",
   "metadata": {},
   "source": [
    "## Task 2: Lookalike Model"
   ]
  },
  {
   "cell_type": "code",
   "execution_count": 2,
   "metadata": {},
   "outputs": [],
   "source": [
    "# Importing the libraries\n",
    "import pandas as pd\n",
    "from sklearn.metrics.pairwise import cosine_similarity\n",
    "from sklearn.preprocessing import StandardScaler"
   ]
  },
  {
   "cell_type": "code",
   "execution_count": 3,
   "metadata": {},
   "outputs": [],
   "source": [
    "# Loading the dataset\n",
    "customers = pd.read_csv('Customers.csv')\n",
    "products = pd.read_csv('Products.csv')\n",
    "transactions = pd.read_csv('Transactions.csv')"
   ]
  },
  {
   "cell_type": "code",
   "execution_count": 5,
   "metadata": {},
   "outputs": [],
   "source": [
    "# Merging the datasets\n",
    "merged = pd.merge(transactions, customers, on='CustomerID')\n",
    "merged = pd.merge(merged, products, on='ProductID')"
   ]
  },
  {
   "cell_type": "code",
   "execution_count": 7,
   "metadata": {},
   "outputs": [],
   "source": [
    "# Feature Engineering - Aggregate Customer transaction data\n",
    "customer_features = merged.groupby('CustomerID').agg({\n",
    "    'TotalValue': 'sum', \n",
    "    'ProductID': 'nunique',  \n",
    "    'Category': lambda x: x.value_counts().idxmax(),  \n",
    "    'Region': 'first'  \n",
    "}).reset_index()"
   ]
  },
  {
   "cell_type": "code",
   "execution_count": 9,
   "metadata": {},
   "outputs": [],
   "source": [
    "# Encoding the columns\n",
    "customer_features_encoded = pd.get_dummies(customer_features, columns=['Category', 'Region'], drop_first=True)"
   ]
  },
  {
   "cell_type": "code",
   "execution_count": 10,
   "metadata": {},
   "outputs": [],
   "source": [
    "# Standardize the data\n",
    "scaler = StandardScaler()\n",
    "scaled_features = scaler.fit_transform(customer_features_encoded.drop(columns=['CustomerID']))"
   ]
  },
  {
   "cell_type": "code",
   "execution_count": 12,
   "metadata": {},
   "outputs": [],
   "source": [
    "#Similarity calculation \n",
    "similarity_matrix = cosine_similarity(scaled_features)\n",
    "\n",
    "# Function to get top 3 similar customers\n",
    "def get_top_3_similar(customers_df, similarity_matrix, customer_id, top_n=3):\n",
    "    customer_idx = customers_df[customers_df['CustomerID'] == customer_id].index[0]\n",
    "    similarity_scores = list(enumerate(similarity_matrix[customer_idx]))\n",
    "    sorted_scores = sorted(similarity_scores, key=lambda x: x[1], reverse=True)[1:top_n+1]\n",
    "    return [(customers_df.iloc[idx]['CustomerID'], score) for idx, score in sorted_scores]"
   ]
  },
  {
   "cell_type": "code",
   "execution_count": 13,
   "metadata": {},
   "outputs": [],
   "source": [
    "# Recommendations for top 20 customers\n",
    "recommendations = {}\n",
    "for customer_id in customers['CustomerID'][:20]:\n",
    "    recommendations[customer_id] = get_top_3_similar(customers, similarity_matrix, customer_id)"
   ]
  },
  {
   "cell_type": "code",
   "execution_count": 14,
   "metadata": {},
   "outputs": [],
   "source": [
    "recommendations_df = pd.DataFrame([\n",
    "    {'CustomerID': cust, 'Lookalikes': rec}\n",
    "    for cust, rec in recommendations.items()\n",
    "])\n",
    "recommendations_df.to_csv(\"YourName_Lookalike.csv\", index=False)"
   ]
  },
  {
   "cell_type": "code",
   "execution_count": null,
   "metadata": {},
   "outputs": [],
   "source": []
  }
 ],
 "metadata": {
  "language_info": {
   "name": "python"
  }
 },
 "nbformat": 4,
 "nbformat_minor": 2
}
